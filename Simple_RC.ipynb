{
 "cells": [
  {
   "cell_type": "code",
   "execution_count": 1,
   "metadata": {},
   "outputs": [
    {
     "name": "stdout",
     "output_type": "stream",
     "text": [
      "Requirement already satisfied: CoolProp in /opt/homebrew/lib/python3.10/site-packages (6.4.3.post1)\n",
      "Note: you may need to restart the kernel to use updated packages.\n",
      "The exergy efficiency of the cycle is 0.7312879776181003\n",
      "The exergy efficiency of the cycle is -0.5063599272643131\n",
      "The coefficient of performance (COP) of the cycle is 3.807103281702973\n"
     ]
    }
   ],
   "source": [
    "%pip install CoolProp\n",
    "from CoolProp.CoolProp import PropsSI\n",
    "\n",
    "# Define the refrigerant\n",
    "refrigerant = 'R32'\n",
    "\n",
    "# Define the temperatures at the evaporator and condenser in Kelvin\n",
    "T_evap = -10 + 273.15  # Evaporation temperature in K\n",
    "T_cond = 40 + 273.15   # Condensation temperature in K\n",
    "\n",
    "# Define the superheat and subcooling in Kelvin\n",
    "superheat = 5\n",
    "subcool = 5\n",
    "\n",
    "# Define the isentropic efficiency of the compressor\n",
    "eta_c = 0.8  # This is a typical value, but it would depend on the specific compressor\n",
    "\n",
    "# Define the ambient temperature in Kelvin\n",
    "T0 = 25 + 273.15  # Ambient temperature\n",
    "\n",
    "# Find the enthalpies and entropies at various points in the cycle\n",
    "h1 = PropsSI('H','T',T_evap + superheat,'Q',1,refrigerant) # Enthalpy at the evaporator exit after superheating\n",
    "s1 = PropsSI('S','T',T_evap + superheat,'Q',1,refrigerant) # Entropy at the evaporator exit after superheating\n",
    "\n",
    "# Find the isentropic enthalpy after the compressor\n",
    "h2s = PropsSI('H','S',s1,'P',PropsSI('P','T',T_cond,'Q',0,refrigerant),refrigerant) # Isentropic enthalpy at the compressor exit\n",
    "\n",
    "# Calculate the actual enthalpy after the compressor, considering the isentropic efficiency\n",
    "h2 = h1 + (h2s - h1) / eta_c\n",
    "\n",
    "h3 = PropsSI('H','T',T_cond - subcool,'Q',0,refrigerant) # Enthalpy at the condenser exit after subcooling\n",
    "h4 = h3  # Enthalpy stays the same through the expansion valve (assuming ideal valve)\n",
    "\n",
    "# Calculate the heat absorbed in the evaporator and the work done in the compressor\n",
    "Q_in = h1 - h4  # Heat absorbed in the evaporator\n",
    "W_comp = h2 - h1  # Work done on the refrigerant in the compressor\n",
    "\n",
    "# Calculate the entropy at state 4 using the evaporator pressure\n",
    "P4 = PropsSI('P','T',T_evap,'Q',0,refrigerant)\n",
    "s4 = PropsSI('S','H',h4,'P',P4,refrigerant)\n",
    "\n",
    "# Calculate the exergy destruction\n",
    "Ex_d = T0 * (s1 - s4)  # Exergy destruction\n",
    "\n",
    "# Calculate the exergy efficiency\n",
    "eta_ex = Q_in / (W_comp + Ex_d)\n",
    "\n",
    "print(f\"The exergy efficiency of the cycle is {eta_ex}\")\n",
    "\n",
    "# Calculate the exergy output and input\n",
    "Ex_out = Q_in * (1 - T0 / T_evap)  # Exergy output\n",
    "Ex_in = W_comp  # Exergy input (equal to the work done on the refrigerant in the compressor)\n",
    "\n",
    "# Calculate the exergy efficiency\n",
    "eta_ex_negative = Ex_out / Ex_in\n",
    "\n",
    "print(f\"The exergy efficiency of the cycle is {eta_ex_negative}\")\n",
    "\n",
    "# Calculate the heat absorbed in the evaporator and the work done in the compressor\n",
    "Q_in = h1 - h4  # Heat absorbed in the evaporator\n",
    "W_comp = h2 - h1  # Work done on the refrigerant in the compressor\n",
    "\n",
    "# Calculate the coefficient of performance (COP) for the cycle\n",
    "COP = Q_in / W_comp\n",
    "\n",
    "print(f\"The coefficient of performance (COP) of the cycle is {COP}\")"
   ]
  }
 ],
 "metadata": {
  "kernelspec": {
   "display_name": "Python 3",
   "language": "python",
   "name": "python3"
  },
  "language_info": {
   "codemirror_mode": {
    "name": "ipython",
    "version": 3
   },
   "file_extension": ".py",
   "mimetype": "text/x-python",
   "name": "python",
   "nbconvert_exporter": "python",
   "pygments_lexer": "ipython3",
   "version": "3.10.11"
  },
  "orig_nbformat": 4,
  "vscode": {
   "interpreter": {
    "hash": "bd385fe162c5ca0c84973b7dd5c518456272446b2b64e67c2a69f949ca7a1754"
   }
  }
 },
 "nbformat": 4,
 "nbformat_minor": 2
}
